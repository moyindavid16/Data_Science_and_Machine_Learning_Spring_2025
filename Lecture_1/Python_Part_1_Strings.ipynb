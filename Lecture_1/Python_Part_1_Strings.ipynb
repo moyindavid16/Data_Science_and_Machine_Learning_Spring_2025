{
  "cells": [
    {
      "cell_type": "markdown",
      "metadata": {
        "id": "yF6zJeBPws6d"
      },
      "source": [
        "---\n",
        "\n",
        "# Python Part 1. Strings\n",
        "\n",
        "[![Open In Colab](https://colab.research.google.com/assets/colab-badge.svg)](https://colab.research.google.com/github/RandyRDavila/Data_Science_and_Machine_Learning_Spring_2022/blob/main/Lecture_1/Python_Part_1_Strings.ipynb)\n",
        "\n",
        "\n",
        "\n",
        "Python strings are sequences of characters and symbols surrounded by ``` \" \" ``` or by ``` ' ' ```, and will be used in many contexts, such as when writing *doc strings*, printing descriptive output, and when naming the columns of tabular data (*DataFrames*). Strings are also often the first representation of data read into a program before being converted to numerical values (if needed). To illustrate how strings work consider typing the following code into the cell below:\n",
        "\n",
        "```python\n",
        "# This is one way to define a string\n",
        "first_name = \"John\"\n",
        "\n",
        "# This is another way to define a string\n",
        "last_name = 'Doe'\n",
        "\n",
        "```\n",
        "\n",
        "**Tip 1.** When writing code in a professional manor try and stay consistant with how you define your strings.\n",
        "\n",
        "**Tip 2.** This code is an example of **variable assignment**. Variable names must begin with a non-numerical value and should always be lower case. Also, it is standard in Python to use underscores to seperate words in variable names.\n",
        "\n",
        "---"
      ]
    },
    {
      "cell_type": "code",
      "execution_count": 1,
      "metadata": {
        "id": "lVAcPf1cws6e"
      },
      "outputs": [],
      "source": [
        "first_name = \"John\"\n",
        "\n",
        "# This is another way to define a string\n",
        "last_name = 'Doe'\n"
      ]
    },
    {
      "cell_type": "markdown",
      "metadata": {
        "id": "PffLjnFiws6e"
      },
      "source": [
        "---\n",
        "\n",
        "You can check the values of the variables ```first_name``` and ```last_name``` by printing them with the ```print()``` function:\n",
        "```python\n",
        "print(first_name)\n",
        "\n",
        "print(last_name)\n",
        "```\n",
        "\n",
        "---"
      ]
    },
    {
      "cell_type": "code",
      "execution_count": 2,
      "metadata": {
        "id": "gCDmWik5ws6e",
        "outputId": "aa244188-1ee9-4526-ed99-afa4f01853e3",
        "colab": {
          "base_uri": "https://localhost:8080/"
        }
      },
      "outputs": [
        {
          "output_type": "stream",
          "name": "stdout",
          "text": [
            "John\n",
            "Doe\n"
          ]
        }
      ],
      "source": [
        "print(first_name)\n",
        "\n",
        "print(last_name)"
      ]
    },
    {
      "cell_type": "markdown",
      "metadata": {
        "id": "Hnzl_mr1ws6e"
      },
      "source": [
        "---\n",
        "\n",
        "We can insert a newline after a print statement by including the *new line character* ```\"\\n\"``` in the print function. Compare the following code with that above:\n",
        "```python\n",
        "print(first_name, \"\\n\")\n",
        "print(last_name)\n",
        "\n",
        "```\n",
        "\n",
        "---"
      ]
    },
    {
      "cell_type": "code",
      "execution_count": 3,
      "metadata": {
        "id": "xIllQz7Lws6e",
        "outputId": "37c6175e-1c7d-4695-ae5c-4e35f713c4e7",
        "colab": {
          "base_uri": "https://localhost:8080/"
        }
      },
      "outputs": [
        {
          "output_type": "stream",
          "name": "stdout",
          "text": [
            "John \n",
            "\n",
            "Doe\n"
          ]
        }
      ],
      "source": [
        "print(first_name, \"\\n\")\n",
        "print(last_name)"
      ]
    },
    {
      "cell_type": "markdown",
      "metadata": {
        "id": "Ks7eteWDws6e"
      },
      "source": [
        "---\n",
        "\n",
        "**String concatenation** is the process of merging one or more strings together. In Python this process is done by way of calling the ```+``` operator. For example, try running this in the following code cell:\n",
        "```python\n",
        "first_name + last_name\n",
        "\n",
        "```\n",
        "\n",
        "**Note.** If you are just wanting to view the value of one line of code, you do not have to call the ```print()``` function. This only works in the Python REPL and Jupyter notebooks.\n",
        "\n",
        "---"
      ]
    },
    {
      "cell_type": "code",
      "execution_count": 4,
      "metadata": {
        "id": "sqLwk-bews6f",
        "outputId": "514598f7-d3e5-431b-fda1-f014b200456f",
        "colab": {
          "base_uri": "https://localhost:8080/",
          "height": 35
        }
      },
      "outputs": [
        {
          "output_type": "execute_result",
          "data": {
            "text/plain": [
              "'JohnDoe'"
            ],
            "application/vnd.google.colaboratory.intrinsic+json": {
              "type": "string"
            }
          },
          "metadata": {},
          "execution_count": 4
        }
      ],
      "source": [
        "first_name + last_name"
      ]
    },
    {
      "cell_type": "markdown",
      "metadata": {
        "id": "i6uKzMkBws6f"
      },
      "source": [
        "---\n",
        "\n",
        "We can easily add a white space (which is itself a character) between the first_name and last_name variable by running:\n",
        "```python\n",
        "first_name + \" \" + last_name\n",
        "```\n",
        "\n",
        "\n",
        "---"
      ]
    },
    {
      "cell_type": "code",
      "execution_count": 5,
      "metadata": {
        "id": "Mx1f8uKRws6f",
        "outputId": "5d833f88-ab17-48cb-e8b4-635c2092212c",
        "colab": {
          "base_uri": "https://localhost:8080/",
          "height": 35
        }
      },
      "outputs": [
        {
          "output_type": "execute_result",
          "data": {
            "text/plain": [
              "'John Doe'"
            ],
            "application/vnd.google.colaboratory.intrinsic+json": {
              "type": "string"
            }
          },
          "metadata": {},
          "execution_count": 5
        }
      ],
      "source": [
        "first_name + \" \" + last_name"
      ]
    },
    {
      "cell_type": "markdown",
      "metadata": {
        "id": "bHN_V7c7ws6f"
      },
      "source": [
        "---\n",
        "\n",
        "Often times we need to place the value of a variable into a string. This **string interpolation** can be done using *f-strings*. This operation works by placing the letter ```f``` on the left side of your string in question and then placing variables inside ```{}```. For example try running the following code in the cell below:\n",
        "```python\n",
        "# Define a new variable age\n",
        "age = 34\n",
        "\n",
        "# String interpolation\n",
        "f\"{first_name} {last_name} is {age} years old\"\n",
        "```\n",
        "\n",
        "---"
      ]
    },
    {
      "cell_type": "code",
      "execution_count": 10,
      "metadata": {
        "id": "MzCgRdpWws6f",
        "outputId": "b1788944-18d8-4bc1-e0cd-854747c69515",
        "colab": {
          "base_uri": "https://localhost:8080/",
          "height": 53
        }
      },
      "outputs": [
        {
          "output_type": "stream",
          "name": "stdout",
          "text": [
            "John Doe is 34 years old\n"
          ]
        },
        {
          "output_type": "execute_result",
          "data": {
            "text/plain": [
              "'34.00'"
            ],
            "application/vnd.google.colaboratory.intrinsic+json": {
              "type": "string"
            }
          },
          "metadata": {},
          "execution_count": 10
        }
      ],
      "source": [
        "age = 34\n",
        "\n",
        "print(f\"{first_name} {last_name} is {age} years old\")\n",
        "f\"{age:.2f}\""
      ]
    },
    {
      "cell_type": "markdown",
      "metadata": {
        "id": "tErQkyglws6f"
      },
      "source": [
        "---\n",
        "\n",
        "**Everything in Python is an object and objects have attributes and methods associated with them.** When encountering a new Python object it is good practice to look up the attributes and methods associated with the object in question. For a list of all strings methods please click [here](https://www.w3schools.com/python/python_ref_string.asp), or try out the following abreviated list chosen at random:\n",
        "\n",
        "1. ```capitalize()```:  Converts the first character to upper case\n",
        "2. ```title()```:  Capitalizes the first letter of each word\n",
        "3. ```count()```:  Returns the number of times a specified value occurs in a string\n",
        "4. ```find()```:  Searches the string for a specified value and returns the position of where it was found\n",
        "\n",
        "**The attributes and methods of an object are accessed with:**\n",
        "* ```object.attribute```\n",
        "* ```object.method()```\n",
        "\n",
        "For example, try running the following code in the cell below:\n",
        "\n",
        "```python\n",
        "test_string = \"hello world\"\n",
        "test_string.title()\n",
        "\n",
        "```\n",
        "\n",
        "\n",
        "---"
      ]
    },
    {
      "cell_type": "code",
      "execution_count": 11,
      "metadata": {
        "id": "zy39kd56ws6f",
        "outputId": "7b5c95fd-3651-42eb-e14b-ba4bea97ed07",
        "colab": {
          "base_uri": "https://localhost:8080/",
          "height": 35
        }
      },
      "outputs": [
        {
          "output_type": "execute_result",
          "data": {
            "text/plain": [
              "'Hello World'"
            ],
            "application/vnd.google.colaboratory.intrinsic+json": {
              "type": "string"
            }
          },
          "metadata": {},
          "execution_count": 11
        }
      ],
      "source": [
        "test_string = \"hello world\"\n",
        "test_string.title()"
      ]
    },
    {
      "cell_type": "markdown",
      "metadata": {
        "id": "cv1biEsyws6f"
      },
      "source": [
        "---\n",
        "\n",
        "Notice that the first character in ```test_string``` now appears capitalized. This output was *returned* by the method ```title()``` and did not alter the variable itself. In particular it is important to note that **strings are immutable**. This can be varified by running the following code in the cell below:\n",
        "```python\n",
        "print(test_string)\n",
        "```\n",
        "\n",
        "\n",
        "\n",
        "---"
      ]
    },
    {
      "cell_type": "code",
      "execution_count": 12,
      "metadata": {
        "id": "bTy2bczGws6f",
        "outputId": "1e3655ce-844c-45ee-f02d-5597387da7f8",
        "colab": {
          "base_uri": "https://localhost:8080/"
        }
      },
      "outputs": [
        {
          "output_type": "stream",
          "name": "stdout",
          "text": [
            "hello world\n"
          ]
        }
      ],
      "source": [
        "print(test_string)"
      ]
    },
    {
      "cell_type": "markdown",
      "metadata": {
        "id": "xFUClMA7ws6f"
      },
      "source": [
        "---\n",
        "\n",
        "Next lets try the ```count()``` string method. Run the following code in the cell below:\n",
        "```python\n",
        "test_string.count()\n",
        "```\n",
        "\n",
        "\n",
        "---"
      ]
    },
    {
      "cell_type": "code",
      "execution_count": 13,
      "metadata": {
        "id": "rTKYhG6Cws6f",
        "outputId": "c6098dd2-f393-4b8d-f3e4-b1305e4cbb5a",
        "colab": {
          "base_uri": "https://localhost:8080/",
          "height": 144
        }
      },
      "outputs": [
        {
          "output_type": "error",
          "ename": "TypeError",
          "evalue": "count() takes at least 1 argument (0 given)",
          "traceback": [
            "\u001b[0;31m---------------------------------------------------------------------------\u001b[0m",
            "\u001b[0;31mTypeError\u001b[0m                                 Traceback (most recent call last)",
            "\u001b[0;32m<ipython-input-13-a6597d389766>\u001b[0m in \u001b[0;36m<cell line: 0>\u001b[0;34m()\u001b[0m\n\u001b[0;32m----> 1\u001b[0;31m \u001b[0mtest_string\u001b[0m\u001b[0;34m.\u001b[0m\u001b[0mcount\u001b[0m\u001b[0;34m(\u001b[0m\u001b[0;34m)\u001b[0m\u001b[0;34m\u001b[0m\u001b[0;34m\u001b[0m\u001b[0m\n\u001b[0m",
            "\u001b[0;31mTypeError\u001b[0m: count() takes at least 1 argument (0 given)"
          ]
        }
      ],
      "source": [
        "test_string.count()"
      ]
    },
    {
      "cell_type": "markdown",
      "metadata": {
        "id": "uvMZV-dhws6f"
      },
      "source": [
        "---\n",
        "Running the code above should produce the following message:\n",
        "\n",
        "---\n",
        "\n",
        "```python\n",
        "---------------------------------------------------------------------------\n",
        "TypeError                                 Traceback (most recent call last)\n",
        "<ipython-input-32-a6597d389766> in <module>\n",
        "----> 1 test_string.count()\n",
        "\n",
        "TypeError: count() takes at least 1 argument (0 given)\n",
        "\n",
        "```\n",
        "\n",
        "---\n",
        "\n",
        "\n",
        "**Tip.** Whenever you encounter an error it is important to quickly view the last line of the error output in order to quickly diagnose what is going wrong.\n",
        "\n",
        "In our case we see the line ```TypeError: count() takes at least 1 argument (0 given)```. This tells me that the ```count()``` string method takes at least one argument. We can access help with this problem by calling the ```help()``` function built into base Python. Run the following code in the cell below:\n",
        "```python\n",
        "help(test_string.count)\n",
        "```\n",
        "\n",
        "\n",
        "---"
      ]
    },
    {
      "cell_type": "code",
      "execution_count": 14,
      "metadata": {
        "id": "cYKAWOsZws6f",
        "outputId": "e1e04f40-5aa0-4fb6-85ee-7982a3556d18",
        "colab": {
          "base_uri": "https://localhost:8080/"
        }
      },
      "outputs": [
        {
          "output_type": "stream",
          "name": "stdout",
          "text": [
            "Help on built-in function count:\n",
            "\n",
            "count(...) method of builtins.str instance\n",
            "    S.count(sub[, start[, end]]) -> int\n",
            "    \n",
            "    Return the number of non-overlapping occurrences of substring sub in\n",
            "    string S[start:end].  Optional arguments start and end are\n",
            "    interpreted as in slice notation.\n",
            "\n"
          ]
        }
      ],
      "source": [
        "help(test_string.count)"
      ]
    },
    {
      "cell_type": "markdown",
      "metadata": {
        "id": "W-5F3-Rdws6f"
      },
      "source": [
        "---\n",
        "\n",
        "Apparently the ```count()``` string method requires one substring argument and returns the number of occurences of this substring. So for example, try running the following code in the cell below:\n",
        "```python\n",
        "print(test_string, \"\\n\")\n",
        "test_string.count(\"l\")\n",
        "```\n",
        "\n",
        "---"
      ]
    },
    {
      "cell_type": "code",
      "execution_count": 15,
      "metadata": {
        "id": "rhZOH4MFws6f",
        "outputId": "b0581547-42b9-448c-adee-3fe0e84ee9f8",
        "colab": {
          "base_uri": "https://localhost:8080/"
        }
      },
      "outputs": [
        {
          "output_type": "stream",
          "name": "stdout",
          "text": [
            "hello world \n",
            "\n"
          ]
        },
        {
          "output_type": "execute_result",
          "data": {
            "text/plain": [
              "3"
            ]
          },
          "metadata": {},
          "execution_count": 15
        }
      ],
      "source": [
        "print(test_string, \"\\n\")\n",
        "test_string.count(\"l\")"
      ]
    },
    {
      "cell_type": "markdown",
      "metadata": {
        "id": "FrbxN_Mxws6f"
      },
      "source": [
        "---\n",
        "\n",
        "There are so many more string methods that I hope you explore on your own since we do not have time to explore them all here. Before moving to the next string topic try running one of my favorite string methods in the cell below:\n",
        "\n",
        "```python\n",
        "txt = \"I like bananas\"\n",
        "x = txt.replace(\"bananas\", \"apples\")\n",
        "print(x)\n",
        "```\n",
        "\n",
        "\n",
        "---"
      ]
    },
    {
      "cell_type": "code",
      "execution_count": 19,
      "metadata": {
        "id": "pxLLIGzvws6f",
        "outputId": "368ad54d-dc5c-43fb-ed83-9238103cf79f",
        "colab": {
          "base_uri": "https://localhost:8080/",
          "height": 53
        }
      },
      "outputs": [
        {
          "output_type": "stream",
          "name": "stdout",
          "text": [
            "I like apples\n"
          ]
        },
        {
          "output_type": "execute_result",
          "data": {
            "text/plain": [
              "'abbbc'"
            ],
            "application/vnd.google.colaboratory.intrinsic+json": {
              "type": "string"
            }
          },
          "metadata": {},
          "execution_count": 19
        }
      ],
      "source": [
        "txt = \"I like bananas\"\n",
        "x = txt.replace(\"bananas\", \"apples\")\n",
        "print(x)\n",
        "a = \"abbbc\"\n",
        "a.replace(\"b*\", \"c\")"
      ]
    },
    {
      "cell_type": "markdown",
      "metadata": {
        "id": "iXmKhchNws6f"
      },
      "source": [
        "---\n",
        "\n",
        "## Strings are Sequences of Characters\n",
        "\n",
        "Next recall that **strings are sequences of characters** and hence must have a length! We can find out how many characters are in a string by calling the ```len()``` function. For example try:\n",
        "```python\n",
        "\n",
        "full_name = first_name + \" \" + last_name\n",
        "print(f\"{full_name} contains {len(full_name)} characters\")\n",
        "```\n",
        "\n",
        "\n",
        "---"
      ]
    },
    {
      "cell_type": "code",
      "execution_count": 20,
      "metadata": {
        "id": "HBTLEOD0ws6f",
        "outputId": "751a265a-1e87-4a2d-a07f-ab2acd92f617",
        "colab": {
          "base_uri": "https://localhost:8080/"
        }
      },
      "outputs": [
        {
          "output_type": "stream",
          "name": "stdout",
          "text": [
            "John Doe contains 8 characters\n"
          ]
        }
      ],
      "source": [
        "full_name = first_name + \" \" + last_name\n",
        "print(f\"{full_name} contains {len(full_name)} characters\")"
      ]
    },
    {
      "cell_type": "markdown",
      "metadata": {
        "id": "xswWKjQjws6f"
      },
      "source": [
        "---\n",
        "\n",
        "## String Indexing\n",
        "\n",
        "Since sequences are *ordered* and since strings are sequences of characters, it is natural to assume that characters in a string have *location* specified by a given index. In Python (and most other programming languages) indexing starts at 0. For example try running the following code in the cell below:\n",
        "```python\n",
        "test_string = \"abcdefg\"\n",
        "print(f\"The character at the 0 index of {test_string} is {test_string[0]} \\n\")\n",
        "print(f\"The character at the 1 index of {test_string} is {test_string[1]} \\n\")\n",
        "print(f\"The character at the 2 index of {test_string} is {test_string[2]} \\n\")\n",
        "```\n",
        "\n",
        "\n",
        "---"
      ]
    },
    {
      "cell_type": "code",
      "execution_count": 21,
      "metadata": {
        "id": "NNCuPzgxws6f",
        "outputId": "6e639584-60e6-4336-ad1c-cb198a6b6e2b",
        "colab": {
          "base_uri": "https://localhost:8080/"
        }
      },
      "outputs": [
        {
          "output_type": "stream",
          "name": "stdout",
          "text": [
            "The character at the 0 index of abcdefg is a \n",
            "\n",
            "The character at the 1 index of abcdefg is b \n",
            "\n",
            "The character at the 2 index of abcdefg is c \n",
            "\n"
          ]
        }
      ],
      "source": [
        "test_string = \"abcdefg\"\n",
        "print(f\"The character at the 0 index of {test_string} is {test_string[0]} \\n\")\n",
        "print(f\"The character at the 1 index of {test_string} is {test_string[1]} \\n\")\n",
        "print(f\"The character at the 2 index of {test_string} is {test_string[2]} \\n\")"
      ]
    },
    {
      "cell_type": "markdown",
      "metadata": {
        "id": "r2qJRA6Pws6f"
      },
      "source": [
        "---\n",
        "\n",
        "**We can also reverse index**:\n",
        "\n",
        "```python\n",
        "test_string = \"abcdefg\"\n",
        "print(f\"The character at the -1 index of {test_string} is {test_string[-1]} \\n\")\n",
        "print(f\"The character at the -2 index of {test_string} is {test_string[-2]} \\n\")\n",
        "print(f\"The character at the -3 index of {test_string} is {test_string[-3]} \\n\")\n",
        "```\n",
        "\n",
        "\n",
        "What did you notice?\n",
        "\n",
        "---"
      ]
    },
    {
      "cell_type": "code",
      "execution_count": 22,
      "metadata": {
        "id": "lTU5GxQXws6f",
        "outputId": "8a8656ed-1361-4c18-96bc-73bb8ba226f8",
        "colab": {
          "base_uri": "https://localhost:8080/"
        }
      },
      "outputs": [
        {
          "output_type": "stream",
          "name": "stdout",
          "text": [
            "The character at the -1 index of abcdefg is g \n",
            "\n",
            "The character at the -2 index of abcdefg is f \n",
            "\n",
            "The character at the -3 index of abcdefg is e \n",
            "\n"
          ]
        }
      ],
      "source": [
        "test_string = \"abcdefg\"\n",
        "print(f\"The character at the -1 index of {test_string} is {test_string[-1]} \\n\")\n",
        "print(f\"The character at the -2 index of {test_string} is {test_string[-2]} \\n\")\n",
        "print(f\"The character at the -3 index of {test_string} is {test_string[-3]} \\n\")"
      ]
    },
    {
      "cell_type": "markdown",
      "metadata": {
        "id": "U2hVgwdcws6f"
      },
      "source": [
        "---\n",
        "\n",
        "## String Slicing\n",
        "\n",
        "\n",
        "Anytime you can index through an object in Python you can also *slice* through the object. For example, try running the following code in the cell below:\n",
        "```python\n",
        "print(test_string[1])\n",
        "print(test_string[2])\n",
        "print(test_string[3])\n",
        "print(test_string[1:4])\n",
        "```\n",
        "**Note.** The synax ```object[a:b]``` means every entry of your  ```object``` starting at index ```a``` and ending at index ```b-1```.\n",
        "\n",
        "---"
      ]
    },
    {
      "cell_type": "code",
      "execution_count": 25,
      "metadata": {
        "id": "oId-dkr0ws6f",
        "outputId": "c5b83e54-ecde-46d8-9a0c-23b5b3dffacd",
        "colab": {
          "base_uri": "https://localhost:8080/"
        }
      },
      "outputs": [
        {
          "output_type": "stream",
          "name": "stdout",
          "text": [
            "b\n",
            "c\n",
            "d\n",
            "bcd\n",
            "test_string='abcdefg'\n",
            "test_string[1:4]='bcd'\n"
          ]
        }
      ],
      "source": [
        "print(test_string[1])\n",
        "print(test_string[2])\n",
        "print(test_string[3])\n",
        "print(test_string[1:4])\n",
        "\n",
        "print(f\"{test_string=}\")\n",
        "print(f\"{test_string[1:4]=}\")"
      ]
    },
    {
      "cell_type": "code",
      "execution_count": null,
      "metadata": {
        "id": "dCGzcu86ws6g"
      },
      "outputs": [],
      "source": []
    },
    {
      "cell_type": "code",
      "execution_count": null,
      "metadata": {
        "id": "ZkmhO7Xcws6g"
      },
      "outputs": [],
      "source": []
    }
  ],
  "metadata": {
    "@webio": {
      "lastCommId": null,
      "lastKernelId": null
    },
    "kernelspec": {
      "display_name": "Python 3.9.13",
      "language": "python",
      "name": "python3"
    },
    "language_info": {
      "codemirror_mode": {
        "name": "ipython",
        "version": 3
      },
      "file_extension": ".py",
      "mimetype": "text/x-python",
      "name": "python",
      "nbconvert_exporter": "python",
      "pygments_lexer": "ipython3",
      "version": "3.9.13"
    },
    "vscode": {
      "interpreter": {
        "hash": "edfd1d359eb7115c0ca6b1cbc28387d060239b20bea94caa2fa9667164714aaf"
      }
    },
    "colab": {
      "provenance": []
    }
  },
  "nbformat": 4,
  "nbformat_minor": 0
}