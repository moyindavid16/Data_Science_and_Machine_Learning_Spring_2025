{
  "cells": [
    {
      "cell_type": "markdown",
      "metadata": {
        "id": "beM8mzWL2aqe"
      },
      "source": [
        "---\n",
        "\n",
        "# Python Part 2. Lists, Tuples, and Sets\n",
        "\n",
        "[![Open In Colab](https://colab.research.google.com/assets/colab-badge.svg)](https://colab.research.google.com/github/RandyRDavila/Data_Science_and_Machine_Learning_Spring_2022/blob/main/Lecture_1/Python_Part_2_Lists_Tuples_and_Sets.ipynb)\n",
        "\n",
        "\n",
        "\n",
        "## 2.a. Lists\n",
        "\n",
        "Python lists are ordered objects that can contain any type that you want. For example, run the following code in the cell below:\n",
        "```python\n",
        "# List of numbers\n",
        "num_list = [1, 3.5, 1.2, 2, 10, 6]\n",
        "print(num_list)\n",
        "\n",
        "# List of strings and numbers\n",
        "num_str_list = [1, \"one\", 4, \"five\"]\n",
        "print(num_str_list)\n",
        "\n",
        "# Nested list\n",
        "nested_list = [num_list, num_str_list]\n",
        "print(nested_list)\n",
        "```\n",
        "\n",
        "\n",
        "\n",
        "---"
      ]
    },
    {
      "cell_type": "code",
      "execution_count": 3,
      "metadata": {
        "id": "STBvnEIv2aqf",
        "outputId": "56592f91-2887-40e9-fa88-0952b0101b64",
        "colab": {
          "base_uri": "https://localhost:8080/"
        }
      },
      "outputs": [
        {
          "output_type": "stream",
          "name": "stdout",
          "text": [
            "Example Python lists\n",
            "-----------------------------------\n",
            "num_list=[1, 3.5, 1.2, 2, 10, 6]\n",
            "num_str_list=[1, 'one', 4, 'five']\n",
            "nested_list=[[1, 3.5, 1.2, 2, 10, 6], [1, 'one', 4, 'five']]\n"
          ]
        }
      ],
      "source": [
        "# List of numbers\n",
        "print(\"Example Python lists\\n\" + 35*\"-\")\n",
        "num_list = [1, 3.5, 1.2, 2, 10, 6]\n",
        "print(f\"{num_list=}\")\n",
        "\n",
        "# List of strings and numbers\n",
        "num_str_list = [1, \"one\", 4, \"five\"]\n",
        "print(f\"{num_str_list=}\")\n",
        "\n",
        "# Nested list\n",
        "nested_list = [num_list, num_str_list]\n",
        "print(f\"{nested_list=}\")"
      ]
    },
    {
      "cell_type": "markdown",
      "metadata": {
        "id": "Utm8yiGO2aqf"
      },
      "source": [
        "---\n",
        "\n",
        "Anytime you are dealing with sequential Python objects you may count the number of elements with the ```len()``` function. So if we would like to count the number of items in ```num_list``` we run the following code in the cell below:\n",
        "```python\n",
        "print(f\"The number of items in {num_list} is {len(num_list)}\")\n",
        "```\n",
        "\n",
        "---"
      ]
    },
    {
      "cell_type": "code",
      "execution_count": 5,
      "metadata": {
        "id": "q2lYGn6p2aqf",
        "outputId": "e6354159-8172-4183-bfd3-ed5d2177d492",
        "colab": {
          "base_uri": "https://localhost:8080/"
        }
      },
      "outputs": [
        {
          "output_type": "stream",
          "name": "stdout",
          "text": [
            "The number of items in num_list=[1, 3.5, 1.2, 2, 10, 6] is 6\n"
          ]
        }
      ],
      "source": [
        "print(f\"The number of items in {num_list=} is {len(num_list)}\")"
      ]
    },
    {
      "cell_type": "markdown",
      "metadata": {
        "id": "TZbTFZIS2aqf"
      },
      "source": [
        "---\n",
        "\n",
        "## List Indexing\n",
        "\n",
        "\n",
        "Since sequences are *ordered* and since lists are sequences of python objects, it is natural to assume that items in a list have a *location* specified by a given index. In Python (and most other programming languages) indexing starts at 0. For example try running the following code in the cell below:\n",
        "```python\n",
        "sample_list = [\"a\", \"b\", \"c\", \"d\"]\n",
        "print(f\"{sample_list} has length {len(sample_list)}\")\n",
        "print(f\"The 0 index element is: {sample_list[0]}\")\n",
        "print(f\"The 1 index element is: {sample_list[1]}\")\n",
        "print(f\"The 2 index element is: {sample_list[2]}\")\n",
        "print(f\"The 3 index element is: {sample_list[3]}\")\n",
        "```\n",
        "\n",
        "\n",
        "---"
      ]
    },
    {
      "cell_type": "code",
      "execution_count": 6,
      "metadata": {
        "id": "7PsBExUl2aqf",
        "outputId": "b8bea9a8-1e2e-42e0-fa29-1619af0a67c4",
        "colab": {
          "base_uri": "https://localhost:8080/"
        }
      },
      "outputs": [
        {
          "output_type": "stream",
          "name": "stdout",
          "text": [
            "['a', 'b', 'c', 'd'] has length 4\n",
            "The 0 index element is: a\n",
            "The 1 index element is: b\n",
            "The 2 index element is: c\n",
            "The 3 index element is: d\n"
          ]
        }
      ],
      "source": [
        "sample_list = [\"a\", \"b\", \"c\", \"d\"]\n",
        "print(f\"{sample_list} has length {len(sample_list)}\")\n",
        "print(f\"The 0 index element is: {sample_list[0]}\")\n",
        "print(f\"The 1 index element is: {sample_list[1]}\")\n",
        "print(f\"The 2 index element is: {sample_list[2]}\")\n",
        "print(f\"The 3 index element is: {sample_list[3]}\")"
      ]
    },
    {
      "cell_type": "markdown",
      "metadata": {
        "id": "QP9WZECh2aqf"
      },
      "source": [
        "---\n",
        "\n",
        "As you might have noticed in the above code, our final index ended with 3, which is equal to the length of ```sample_list```-1. If we do not know the length of the list in question and would like to start indexing at the *end* of the list, we can use the following code which you should run in the cell below:\n",
        "```python\n",
        "print(f\"{sample_list} has length {len(sample_list)}\")\n",
        "print(f\"The -1 index element is: {sample_list[-1]}\")\n",
        "print(f\"The -2 index element is: {sample_list[-2]}\")\n",
        "print(f\"The -3 index element is: {sample_list[-3]}\")\n",
        "print(f\"The -4 index element is: {sample_list[-4]}\")\n",
        "\n",
        "```\n",
        "\n",
        "**What do you observe?** What do you notice about the starting and ending values of the indices when starting from the end of the list?\n",
        "\n",
        "\n",
        "---"
      ]
    },
    {
      "cell_type": "code",
      "execution_count": null,
      "metadata": {
        "id": "MtYhB2Fs2aqg"
      },
      "outputs": [],
      "source": []
    },
    {
      "cell_type": "markdown",
      "metadata": {
        "id": "cjd9iSYf2aqg"
      },
      "source": [
        "---\n",
        "\n",
        "## List Slicing\n",
        "\n",
        "Anytime you can index through an object in Python you can also *slice* through the object. For example, try running the following code in the cell below:\n",
        "```python\n",
        "print(f\"sample_list = {sample_list} \\n\")\n",
        "print(f\"sample_list[1:4] = {sample_list[1:4]} \\n\")\n",
        "```\n",
        "**Note.** The syntax ```sample_list[a:b]``` means every entry of your ordered and iterable ```sample_list``` starting at index ```a``` and ending at index ```b-1```.\n",
        "\n",
        "---"
      ]
    },
    {
      "cell_type": "code",
      "execution_count": null,
      "metadata": {
        "id": "07Efup5g2aqg"
      },
      "outputs": [],
      "source": []
    },
    {
      "cell_type": "code",
      "execution_count": null,
      "metadata": {
        "id": "i7y9nbCq2aqg"
      },
      "outputs": [],
      "source": []
    },
    {
      "cell_type": "code",
      "execution_count": null,
      "metadata": {
        "id": "aiwowqLs2aqg"
      },
      "outputs": [],
      "source": []
    },
    {
      "cell_type": "code",
      "execution_count": null,
      "metadata": {
        "id": "-1oOyEGR2aqg"
      },
      "outputs": [],
      "source": []
    },
    {
      "cell_type": "markdown",
      "metadata": {
        "id": "4drjOGjk2aqg"
      },
      "source": [
        "---\n",
        "\n",
        "## ```sum()```, ```max()```, and ```min()```\n",
        "\n",
        "When your list contains numerical values we can find the sum of elements in the list, find the maximum of the elements in the list, and find the minimum of the elements in our list with the base Python functions ```sum()```, ```max()```, and ```min()```, respectively. For example, try running the following code in the cell below:\n",
        "```python\n",
        "sample_list = [10, 12, 2, 1.5, .25, 6, 8]\n",
        "\n",
        "title = f\"sample_list = {sample_list} \\n\"\n",
        "\n",
        "print(title)\n",
        "print(\"-\"*len(title), \"\\n\")\n",
        "\n",
        "print(f\"The sum of numbers in sample_list = {sum(sample_list)} \\n\")\n",
        "print(f\"The maximum of elements in sample_list = {max(sample_list)} \\n\")\n",
        "print(f\"The minimum of elements in sample_list  = {min(sample_list)} \\n\")\n",
        "\n",
        "print(\"-\"*len(title), \"\\n\")\n",
        "\n",
        "```\n",
        "\n",
        "**Challenge.** The function calls of ```sum()```, ```max()```, and ```min()``` in this code should be clear, but what else is happening with this code? What is happening with ```print(\"-\"*len(title), \"\\n\")```?\n",
        "\n",
        "\n",
        "\n",
        "---"
      ]
    },
    {
      "cell_type": "code",
      "execution_count": null,
      "metadata": {
        "id": "KOWc3Fz72aqg"
      },
      "outputs": [],
      "source": []
    },
    {
      "cell_type": "code",
      "execution_count": null,
      "metadata": {
        "id": "L51ZDcEz2aqg"
      },
      "outputs": [],
      "source": []
    },
    {
      "cell_type": "markdown",
      "metadata": {
        "id": "ham6jsid2aqg"
      },
      "source": [
        "---\n",
        "\n",
        "As junior data scientist we should always be aware of statistical computations! With the above base Python functions we can easily compute the mean of ```sample_list``` by running the following code in the cell below:\n",
        "```python\n",
        "print(f\"The mean of sample_list = {sum(sample_list)/len(sample_list)}\")\n",
        "```\n",
        "\n",
        "---"
      ]
    },
    {
      "cell_type": "code",
      "execution_count": null,
      "metadata": {
        "id": "Et-smODy2aqg"
      },
      "outputs": [],
      "source": []
    },
    {
      "cell_type": "code",
      "execution_count": null,
      "metadata": {
        "id": "gz-JvOxw2aqg"
      },
      "outputs": [],
      "source": []
    },
    {
      "cell_type": "markdown",
      "metadata": {
        "id": "YNC5jPf82aqg"
      },
      "source": [
        "---\n",
        "\n",
        "### List Methods\n",
        "\n",
        "As mentioned in a previous lesson, everything in Python is an object, and all objects have *attributes* and *methods*. Lists are no exception. Because lists are so useful in data science, I include all list methods below with no specific ordering:\n",
        "\n",
        "1. ```append()```:\tAdds an element at the end of the list\n",
        "2. ```clear()```:\tRemoves all the elements from the list\n",
        "3. ```copy()```:\tReturns a copy of the list\n",
        "4. ```count()```:\tReturns the number of elements with the specified value\n",
        "5. ```extend()```:\tAdd the elements of a list (or any iterable), to the end of the current list\n",
        "6. ```index()```:\tReturns the index of the first element with the specified value\n",
        "7. ```insert()```:\tAdds an element at the specified position\n",
        "8. ```pop()```:\tRemoves the element at the specified position\n",
        "9. ```remove()```:\tRemoves the first item with the specified value\n",
        "10. ```reverse()```:\tReverses the order of the list\n",
        "11. ```sort()```:\tSorts the list\n",
        "\n",
        "\n",
        "While looking at the descriptions of these methods you might notice methods 1, 2, 5, 7, 8, 9, 10, and 11 do not return a new list, but wrather, *modify* the current list in question. This indicates that Python lists are **mutable**, meaning that we can modify the entries of a given instance of a list. For example, run the following code in the cell below:\n",
        "```python\n",
        "sample_list = [10, 2, 9, 7]\n",
        "print(f\"sample_list before applying the append method: {sample_list} \\n\")\n",
        "sample_list.append(\"apple\")\n",
        "print(f\"sample_list after applying the append method: {sample_list} \\n\")\n",
        "\n",
        "```\n",
        "\n",
        "---"
      ]
    },
    {
      "cell_type": "code",
      "execution_count": null,
      "metadata": {
        "id": "5qIebtl72aqg"
      },
      "outputs": [],
      "source": []
    },
    {
      "cell_type": "markdown",
      "metadata": {
        "id": "dQCWvRto2aqg"
      },
      "source": [
        "---\n",
        "\n",
        "## Mutability Warning with List Methods!\n",
        "\n",
        "Try running the code below in the following cell.\n",
        "```python\n",
        "x = [10, 2, 9, 7]\n",
        "print(f\"x before applying the append method: {x} \\n\")\n",
        "x = x.append(\"apple\")\n",
        "print(f\"x after applying the append method: {x} \\n\")\n",
        "\n",
        "```\n",
        "\n",
        "What do you notice?\n",
        "\n",
        "---"
      ]
    },
    {
      "cell_type": "code",
      "execution_count": null,
      "metadata": {
        "id": "WrfxABsw2aqg"
      },
      "outputs": [],
      "source": []
    },
    {
      "cell_type": "markdown",
      "metadata": {
        "id": "vZx6nDgB2aqg"
      },
      "source": [
        "---\n",
        "\n",
        "Assigning to a new variable to a list variable **does not make a copy**, it makes an additional name. For example, run the following code in the cell below:\n",
        "\n",
        "```python\n",
        "x = [10, 2, 9, 7]\n",
        "y = x\n",
        "print(f\"x before applying the append method: {x} \\n\")\n",
        "y.append(\"apple\")\n",
        "print(f\"x after applying the append method ON y: {x} \\n\")\n",
        "\n",
        "```\n",
        "\n",
        "---"
      ]
    },
    {
      "cell_type": "code",
      "execution_count": null,
      "metadata": {
        "id": "qltYgGZ22aqg"
      },
      "outputs": [],
      "source": []
    },
    {
      "cell_type": "code",
      "execution_count": null,
      "metadata": {
        "id": "ukuF95wA2aqg"
      },
      "outputs": [],
      "source": []
    },
    {
      "cell_type": "markdown",
      "metadata": {
        "id": "AuO7N-932aqg"
      },
      "source": [
        "---\n",
        "\n",
        "The fact that Python lists are mutable is very important to remember, and also very useful. In data science we are often concerned with sorting lists of numerical values. With the ```sort()``` method we can achieve this goal easily. For example, run the following code in the cell below:\n",
        "```python\n",
        "sample_list = [10, 2, 9, 7]\n",
        "print(f\"sample_list before applying the sort method: {sample_list} \\n\")\n",
        "sample_list.sort()\n",
        "print(f\"sample_list after applying the sort method: {sample_list} \\n\")\n",
        "\n",
        "```\n",
        "\n",
        "\n",
        "\n",
        "---"
      ]
    },
    {
      "cell_type": "code",
      "execution_count": null,
      "metadata": {
        "id": "hPb9EzF62aqh"
      },
      "outputs": [],
      "source": []
    },
    {
      "cell_type": "markdown",
      "metadata": {
        "id": "818YwWcv2aqh"
      },
      "source": [
        "---\n",
        "\n",
        "As you may notice, the ```sort()``` list method sorts the numerical entries (what happens with strings?) in non-decreasing order. But what if we would like to sort the entries of of ```sample_list``` in non-increasing order? As with many things in python, we should first check this with the built in Python ```help()``` function. Try running the following code in the cell below:\n",
        "```python\n",
        "sample_list = [10, 2, 9, 7]\n",
        "help(sample_list.sort)\n",
        "```\n",
        "\n",
        "\n",
        "\n",
        "\n",
        "---"
      ]
    },
    {
      "cell_type": "code",
      "execution_count": null,
      "metadata": {
        "id": "2_pOJ2-H2aqh"
      },
      "outputs": [],
      "source": []
    },
    {
      "cell_type": "markdown",
      "metadata": {
        "id": "cjKCoeb_2aqh"
      },
      "source": [
        "---\n",
        "\n",
        "After running the ```help()``` function on the ```sort()``` list method you should see:\n",
        "\n",
        "----\n",
        "\n",
        "```python\n",
        "Help on built-in function sort:\n",
        "\n",
        "sort(*, key=None, reverse=False) method of builtins.list instance\n",
        "    Sort the list in ascending order and return None.\n",
        "    \n",
        "    The sort is in-place (i.e. the list itself is modified) and stable (i.e. the\n",
        "    order of two equal elements is maintained).\n",
        "    \n",
        "    If a key function is given, apply it once to each list item and sort them,\n",
        "    ascending or descending, according to their function values.\n",
        "    \n",
        "    The reverse flag can be set to sort in descending order.\n",
        "\n",
        "```\n",
        "\n",
        "---\n",
        "\n",
        "If we look at the output from the ```help()``` function we notice the following line:\n",
        "```Python\n",
        "The reverse flag can be set to sort in descending order.\n",
        "```\n",
        "\n",
        "What this tells me is that we need provide a *keyword argument* in order to sort our list in a descending order.  In the case of the ```sort()``` list method, you can try running the following code in the cell below:\n",
        "```Python\n",
        "sample_list = [10, 2, 9, 7]\n",
        "print(f\"sample_list before applying the sort method: {sample_list} \\n\")\n",
        "sample_list.sort(reverse = True)\n",
        "print(f\"sample_list after applying the sort method (with reverse = True): {sample_list} \\n\")\n",
        "```\n",
        "\n",
        "\n",
        "**Note.** In Python, the Boolean value of true is ```True``` and the boolean value of false is ```False```.\n",
        "\n",
        "---"
      ]
    },
    {
      "cell_type": "code",
      "execution_count": null,
      "metadata": {
        "id": "0lCrZTcZ2aqh"
      },
      "outputs": [],
      "source": []
    },
    {
      "cell_type": "markdown",
      "metadata": {
        "id": "3W8Ur9z52aqh"
      },
      "source": [
        "---\n",
        "\n",
        "The ```extend()``` joins one list to another in a similar manor to that of string concatenation. For example, run the following code in the cell below:\n",
        "```python\n",
        "a = [1, 2, 3, 4, 5]\n",
        "b = [\"a\", \"b\", \"c\", \"d\"]\n",
        "\n",
        "a.extend(b)\n",
        "print(a)\n",
        "\n",
        "```\n",
        "\n",
        "---"
      ]
    },
    {
      "cell_type": "code",
      "execution_count": null,
      "metadata": {
        "id": "DzQWihjS2aqh"
      },
      "outputs": [],
      "source": []
    },
    {
      "cell_type": "code",
      "execution_count": null,
      "metadata": {
        "id": "Zhq0QEuD2aqh"
      },
      "outputs": [],
      "source": []
    },
    {
      "cell_type": "code",
      "execution_count": null,
      "metadata": {
        "id": "EuHlONiI2aqh"
      },
      "outputs": [],
      "source": []
    },
    {
      "cell_type": "markdown",
      "metadata": {
        "id": "zc5ltP8g2aqh"
      },
      "source": [
        "----\n",
        "\n",
        "Finally we mention the ```count()``` method in relation to probabilities. Recall that the probability of event $A$ in a sample space $S$ is given by the equation:\n",
        "\n",
        "$$\n",
        "\\mathbb{P}(A) = \\frac{|A|}{|S|}.\n",
        "$$\n",
        "\n",
        "Since the ```count()``` method counts the number of times an element appears in list, we can easily find the probability of selecting an element in a list by combining this method with the ```len()``` function as follows:\n",
        "```python\n",
        "sample_space = [\"apple\", \"banana\", \"apple\", \"blueberry\", \"lime\", \"apple\"]\n",
        "number_of_apples = sample_space.count(\"apple\")\n",
        "\n",
        "print(f\"P(apple) = {number_of_apples/len(sample_space)}\")\n",
        "\n",
        "```\n",
        "\n",
        "\n",
        "----"
      ]
    },
    {
      "cell_type": "code",
      "execution_count": null,
      "metadata": {
        "id": "jEl0DPOm2aqh"
      },
      "outputs": [],
      "source": []
    },
    {
      "cell_type": "markdown",
      "metadata": {
        "id": "_7nPNZGq2aqh"
      },
      "source": [
        "---\n",
        "\n",
        "## 2.b. Tuples\n",
        "\n",
        "Python provides another type that is an ordered collection of objects, called a **tuple**.\n",
        "Tuples are identical to lists in all respects, except for the following properties:\n",
        "\n",
        "1. Tuples are defined by enclosing the elements in parentheses ```()``` instead of square brackets ```[]```.\n",
        "\n",
        "2. Tuples are immutable.\n",
        "\n",
        "These are the only real differences. For example run the following code in the cell below:\n",
        "```python\n",
        "a = (1, 2, 3, 4, 5)\n",
        "b = (\"a\", \"b\", \"c\", \"d\")\n",
        "\n",
        "print(f\"a = {a}\")\n",
        "print(f\"len(a) = {len(a)}\")\n",
        "print(f\"sum(a) = {sum(a)}\")\n",
        "print(f\"min(a) = {min(a)}\")\n",
        "print(f\"max(a) = {max(a)} \\n\")\n",
        "\n",
        "print(f\"b = {b}\")\n",
        "print(f\"b[0] = {b[0]}\")\n",
        "print(f\"b[-1] = {b[-1]}\")\n",
        "print(f\"b[1:4] = {b[1:4]}\")\n",
        "\n",
        "```\n",
        "\n",
        "---"
      ]
    },
    {
      "cell_type": "code",
      "execution_count": null,
      "metadata": {
        "id": "MYj8Pxy22aqh"
      },
      "outputs": [],
      "source": []
    },
    {
      "cell_type": "markdown",
      "metadata": {
        "id": "W5eLC4Z82aqi"
      },
      "source": [
        "---\n",
        "\n",
        "## 2.c. Sets\n",
        "\n",
        "Python provides yet another type called **sets**. These sets are made to represent the formal mathematical definition of sets. Namely, unordered collections of elements without repetition of elements. So it is important to remember:\n",
        "\n",
        "* Sets are unordered.\n",
        "* Set elements are unique. Duplicate elements are not allowed.\n",
        "* A set itself may be modified, but the elements contained in the set must be of an immutable type.\n",
        "\n",
        "\n",
        "A set can be created in two ways. Run the following code in the cell below:\n",
        "```python\n",
        "set_one = {\"a\", \"b\", \"c\", \"d\"}\n",
        "set_two = set([\"c\", \"d\", \"e\"])\n",
        "\n",
        "print(f\"set_one = {set_one}\")\n",
        "print(f\"set_two = {set_two}\")\n",
        "\n",
        "```\n",
        "\n",
        "\n",
        "\n",
        "---"
      ]
    },
    {
      "cell_type": "code",
      "execution_count": null,
      "metadata": {
        "id": "zGzXJMS12aqi"
      },
      "outputs": [],
      "source": []
    },
    {
      "cell_type": "markdown",
      "metadata": {
        "id": "8RFngUIn2aqi"
      },
      "source": [
        "---\n",
        "\n",
        "Sets by definition contain unique elements. So, if you try and define a set with multiple instances of the same element, only one instance will be saved in the set. Try running the following code in the cell below:\n",
        "```python\n",
        "x = {\"a\", \"a\", \"b\", \"c\", \"c\", \"d\"}\n",
        "print(f\"x = {x}\")\n",
        "\n",
        "```\n",
        "\n",
        "---"
      ]
    },
    {
      "cell_type": "code",
      "execution_count": null,
      "metadata": {
        "id": "oYiEWGj_2aqi"
      },
      "outputs": [],
      "source": []
    },
    {
      "cell_type": "markdown",
      "metadata": {
        "id": "gMdtR07j2aqi"
      },
      "source": [
        "---\n",
        "\n",
        "This removal of duplicate entries can be especially useful when you would like to see the unique elements in a list of data. For example:\n",
        "```python\n",
        "data = [100, 90, 100, 30, 30, 40, 30]\n",
        "print(f\"data = {data}\")\n",
        "print(f\"unique data entries = {list(set(data))}\")\n",
        "\n",
        "```\n",
        "\n",
        "**Note.** In this code we first convert ```data``` to a set, which removes duplicate entries, and then convert back to a list using the ```list()``` function.\n",
        "\n",
        "---"
      ]
    },
    {
      "cell_type": "code",
      "execution_count": null,
      "metadata": {
        "id": "xI1-c4Ld2aqi"
      },
      "outputs": [],
      "source": []
    },
    {
      "cell_type": "markdown",
      "metadata": {
        "id": "sX2uFitq2aqi"
      },
      "source": [
        "---\n",
        "\n",
        "## Set Operations\n",
        "\n",
        "Mathematical sets have several fundamental operations:\n",
        "* The union of A and B = all elements contained in A or in B\n",
        "* The intersection of A and B = all elements contained in A and in B\n",
        "* A setdifference B = all elements in A and not in B\n",
        "* A symmetric difference B = All elements of A and B not contained in the intersection of A and B\n",
        "\n",
        "\n",
        "Python has set methods for each of these operations. This can be illustrated by running the following code in the cell below:\n",
        "```python\n",
        "A = {\"a\", \"b\", \"c\", \"d\", \"e\"}\n",
        "B = {\"c\", \"d\", \"e\", \"f\", \"g\"}\n",
        "\n",
        "print(f\"A = {A}\")\n",
        "print(f\"B = {B} \\n\")\n",
        "print(\"---------------- Set Operators ---------------- \\n\")\n",
        "print(f\"Set Union: A or B = {A.union(B)} \\n\")\n",
        "print(f\"Set Intersection: A and B = {A.intersection(B)} \\n\")\n",
        "print(f\"Set Difference: A - B = {A.difference(B)} \\n\")\n",
        "print(f\"Set Symmetric Difference: A (+) B = {A.symmetric_difference(B)} \\n\")\n",
        "\n",
        "```\n",
        "\n",
        "---"
      ]
    },
    {
      "cell_type": "code",
      "execution_count": null,
      "metadata": {
        "id": "5aYX9wKn2aqi"
      },
      "outputs": [],
      "source": []
    },
    {
      "cell_type": "markdown",
      "metadata": {
        "id": "ZllYZcP52aqi"
      },
      "source": [
        "----\n",
        "\n",
        "For more on Python sets and set operations see the excellent article by RealPython.com by clicking [here](https://realpython.com/python-sets/)\n",
        "\n",
        "\n",
        "\n",
        "---"
      ]
    }
  ],
  "metadata": {
    "@webio": {
      "lastCommId": null,
      "lastKernelId": null
    },
    "kernelspec": {
      "display_name": "Python 3",
      "language": "python",
      "name": "python3"
    },
    "language_info": {
      "codemirror_mode": {
        "name": "ipython",
        "version": 3
      },
      "file_extension": ".py",
      "mimetype": "text/x-python",
      "name": "python",
      "nbconvert_exporter": "python",
      "pygments_lexer": "ipython3",
      "version": "3.8.5"
    },
    "colab": {
      "provenance": []
    }
  },
  "nbformat": 4,
  "nbformat_minor": 0
}