{
  "cells": [
    {
      "cell_type": "markdown",
      "metadata": {
        "id": "HLBiqqMT_f0G"
      },
      "source": [
        "---\n",
        "\n",
        "# Python Part 3. Dictionaries\n",
        "\n",
        "[![Open In Colab](https://colab.research.google.com/assets/colab-badge.svg)](https://colab.research.google.com/github/RandyRDavila/Data_Science_and_Machine_Learning_Spring_2022/blob/main/Lecture_1/Python_Part_3_Dictionaries.ipynb)\n",
        "\n",
        "\n",
        "\n",
        "Python **dictionaries** are *key-value* pairs and I highly encourage you to visit RealPython.com by clicking [here](https://realpython.com/python-dicts/) for more on dictionaries.  \n",
        "\n",
        "\n",
        "The following syntax illustrates how to create a Python dictionary object. We also use the ```items()``` method to view the key-value pairs in our dictionary:\n",
        "```python\n",
        "sample_dictionary = {\"first_name\": \"John\",\n",
        "                     \"last_name\": \"Doe\",\n",
        "                     \"age\": 34\n",
        "                    }\n",
        "\n",
        "print(f\"sample_dictionary = {sample_dictionary}\")\n",
        "print(f\"sample_dictionary key-value pairs = {sample_dictionary.items()}\")\n",
        "\n",
        "\n",
        "```\n",
        "\n",
        "**Note.** When the contents of a list, tuple, set, or dictionary begin to get too wide it is common (and Pythonic) to simply continue the instantiation of the object on the line directly under where you started.\n",
        "\n",
        "---"
      ]
    },
    {
      "cell_type": "code",
      "execution_count": 2,
      "metadata": {
        "id": "6YMR8jP__f0G",
        "outputId": "a3bc7db9-5b7f-4ce9-d9b9-b1ce28cfdffa",
        "colab": {
          "base_uri": "https://localhost:8080/"
        }
      },
      "outputs": [
        {
          "output_type": "stream",
          "name": "stdout",
          "text": [
            "sample_dictionary = {'first_name': 'John', 'last_name': 'Doe', 'age': 34}\n",
            "sample_dictionary key-value pairs = sample_dictionary.items() = dict_items([('first_name', 'John'), ('last_name', 'Doe'), ('age', 34)])\n"
          ]
        }
      ],
      "source": [
        "sample_dictionary = {\n",
        "    \"first_name\": \"John\",\n",
        "    \"last_name\": \"Doe\",\n",
        "    \"age\": 34\n",
        "}\n",
        "\n",
        "print(f\"{sample_dictionary = }\")\n",
        "print(f\"sample_dictionary key-value pairs = {sample_dictionary.items() = }\")"
      ]
    },
    {
      "cell_type": "markdown",
      "metadata": {
        "id": "N7unnAeq_f0H"
      },
      "source": [
        "---\n",
        "\n",
        "The key-value pairs are shown in this print statement and seperated by the comma's. For each pair the key appears on the left of the colon symbol and its associated value appears to the right of the colon symbol. In the second line printed above notice that the key-value pairs are precisely tuples contained in a list.\n",
        "\n",
        "\n",
        "Each key points towards a value and can be accessed with the square brackets ```sample_dictionary[key_name] = key_value```. For example, run the following code in the cell below:\n",
        "```python\n",
        "print(f\"sample_dictionary = {sample_dictionary} \\n\")\n",
        "print(f\"sample_dictionary['first_name'] = {sample_dictionary['first_name']} \\n\")\n",
        "print(f\"sample_dictionary['last_name'] = {sample_dictionary['last_name']} \\n\")\n",
        "print(f\"sample_dictionary['age'] = {sample_dictionary['age']} \\n\")\n",
        "\n",
        "```\n",
        "\n",
        "**Note.** In this code I wanted to include the string keys inside of my print statement. I was able to do this because I used single quotes inside of my outside double quote string. If I had tried to double quotes inside of my double quoted string, I would have recieved an error.\n",
        "\n",
        "\n",
        "---"
      ]
    },
    {
      "cell_type": "code",
      "execution_count": 3,
      "metadata": {
        "id": "KMiUn7a4_f0H",
        "outputId": "0e9d5e93-a5c4-4aaf-f931-901ea87d7fcd",
        "colab": {
          "base_uri": "https://localhost:8080/"
        }
      },
      "outputs": [
        {
          "output_type": "stream",
          "name": "stdout",
          "text": [
            "sample_dictionary = {'first_name': 'John', 'last_name': 'Doe', 'age': 34} \n",
            "\n",
            "sample_dictionary['first_name'] = 'John' \n",
            "\n",
            "sample_dictionary['last_name'] = 'Doe' \n",
            "\n",
            "sample_dictionary['age'] = 34 \n",
            "\n"
          ]
        }
      ],
      "source": [
        "print(f\"{sample_dictionary = } \\n\")\n",
        "print(f\"{sample_dictionary['first_name'] = } \\n\")\n",
        "print(f\"{sample_dictionary['last_name'] = } \\n\")\n",
        "print(f\"{sample_dictionary['age'] = } \\n\")"
      ]
    },
    {
      "cell_type": "markdown",
      "metadata": {
        "id": "6r0xOb3p_f0H"
      },
      "source": [
        "---\n",
        "\n",
        "To access the keys of of a dictionary we simple call the ```keys()``` dictionary method. Try running the following code in the cell below:\n",
        "```python\n",
        "print(f\"sample_dictionary = {sample_dictionary} \\n\")\n",
        "print(f\"sample_dictionary keys = {sample_dictionary.keys()} \\n\")\n",
        "```\n",
        "\n",
        "\n",
        "---"
      ]
    },
    {
      "cell_type": "code",
      "execution_count": null,
      "metadata": {
        "id": "LD0fPIuB_f0H"
      },
      "outputs": [],
      "source": []
    },
    {
      "cell_type": "markdown",
      "metadata": {
        "id": "F-IbHaME_f0H"
      },
      "source": [
        "---\n",
        "\n",
        "To access the keys values of of a dictionary we simple call the ```values()``` dictionary method. Try running the following code in the cell below:\n",
        "```python\n",
        "print(f\"sample_dictionary = {sample_dictionary} \\n\")\n",
        "print(f\"sample_dictionary values = {sample_dictionary.values()} \\n\")\n",
        "```\n",
        "\n",
        "\n",
        "---"
      ]
    },
    {
      "cell_type": "code",
      "execution_count": null,
      "metadata": {
        "id": "doUg20IO_f0H"
      },
      "outputs": [],
      "source": []
    },
    {
      "cell_type": "markdown",
      "metadata": {
        "id": "-PtL3ka9_f0H"
      },
      "source": [
        "---\n",
        "\n",
        "We can add a new key-value pair to our dictionary by passing a key into the sqaure brackets which is assigned to your choice of value. If the key already exists in the dictionary, the old value will be replaced with the new value. For example, run the following code in the cell below:\n",
        "```python\n",
        "new_dictionary = {'first_name': 'John', 'last_name': 'Doe', 'age': 34}\n",
        "\n",
        "print(\"new_dictionary before modification:\")\n",
        "print(new_dictionary, \"\\n\")\n",
        "\n",
        "print(\"----------------------------------------------------------------------\")\n",
        "\n",
        "new_dictionary[\"first_name\"] = \"Jane\"\n",
        "new_dictionary[\"sex\"] = \"female\"\n",
        "\n",
        "print(\"new_dictionary after modification:\")\n",
        "print(new_dictionary, \"\\n\")\n",
        "```\n",
        "\n",
        "---"
      ]
    },
    {
      "cell_type": "code",
      "execution_count": null,
      "metadata": {
        "id": "cEep1aWT_f0H"
      },
      "outputs": [],
      "source": []
    },
    {
      "cell_type": "markdown",
      "metadata": {
        "id": "QPh18SUw_f0H"
      },
      "source": [
        "---\n",
        "\n",
        "### Restrictions on Dictionary Keys\n",
        "\n",
        "Almost any type of value can be used as a dictionary key in Python. However, there are a couple restrictions that dictionary keys must abide by:\n",
        "1. A given key can appear in a dictionary only once. Duplicate keys are not allowed.  \n",
        "2. A dictionary key must be of a type that is immutable, such types include integers, floats, strings, Booleans, and tuples.\n",
        "\n",
        "### Restrictions on Dictionary Values\n",
        "A dictionary value can be any type of object Python supports, including mutable types like lists and dictionaries, and user-defined objects.\n",
        "\n",
        "\n",
        "From a data science perspective, dictionaries can be used to model *databases*. By this I mean that that keys can point to dictionaries contained specific values needed, which in-turn can also be dictionaries. This tree like structure mimics the stucture of many databases. For example, consider running the following code in the cell below:\n",
        "```python\n",
        "employees = {\"John\": {\"Age\": 20, \"Position\": \"sales\", \"Salary\": 60_000},\n",
        "             \"Jane\" :{\"Age\": 25, \"Position\": \"management\", \"Salary\": 80_000}\n",
        "            }\n",
        "\n",
        "vendors = {\"Houston Supply\" : {\"Product\": \"computers\", \"Monthly Fee\": 20_000,},\n",
        "           \"ACME\": {\"Product\": \"keyboards\", \"Monthly Fee\": 3_000}\n",
        "          }\n",
        "           \n",
        "database = {\"employees\": employees, \"vendors\": vendors}\n",
        "\n",
        "\n",
        "\n",
        "\n",
        "```\n",
        "\n",
        "\n",
        "\n",
        "---"
      ]
    },
    {
      "cell_type": "code",
      "execution_count": 5,
      "metadata": {
        "id": "8C3D4PtE_f0H"
      },
      "outputs": [],
      "source": [
        "employees = {\"John\": {\"Age\": 20, \"Position\": \"sales\", \"Salary\": 60_000},\n",
        "             \"Jane\" :{\"Age\": 25, \"Position\": \"management\", \"Salary\": 80_000}\n",
        "            }\n",
        "\n",
        "vendors = {\"Houston Supply\" : {\"Product\": \"computers\", \"Monthly Fee\": 20_000,},\n",
        "           \"ACME\": {\"Product\": \"keyboards\", \"Monthly Fee\": 3_000}\n",
        "          }\n",
        "\n",
        "database = {\"employees\": employees, \"vendors\": vendors}"
      ]
    },
    {
      "cell_type": "markdown",
      "metadata": {
        "id": "4ip4A6S9_f0H"
      },
      "source": [
        "---\n",
        "\n",
        "Next run the following code in the cell below:\n",
        "```python\n",
        "print(database[\"employees\"])\n",
        "```\n",
        "\n",
        "\n",
        "---"
      ]
    },
    {
      "cell_type": "code",
      "execution_count": 6,
      "metadata": {
        "id": "6FZjDIeS_f0H",
        "outputId": "81d2a1bd-077e-414f-ef1b-81817bad266f",
        "colab": {
          "base_uri": "https://localhost:8080/"
        }
      },
      "outputs": [
        {
          "output_type": "stream",
          "name": "stdout",
          "text": [
            "{'John': {'Age': 20, 'Position': 'sales', 'Salary': 60000}, 'Jane': {'Age': 25, 'Position': 'management', 'Salary': 80000}}\n"
          ]
        }
      ],
      "source": [
        "print(database[\"employees\"])"
      ]
    },
    {
      "cell_type": "markdown",
      "metadata": {
        "id": "Y4JxJPQd_f0H"
      },
      "source": [
        "---\n",
        "\n",
        "Next run the following code in the cell below:\n",
        "```python\n",
        "print(database[\"employees\"][\"Jane\"])\n",
        "```\n",
        "\n",
        "\n",
        "---"
      ]
    },
    {
      "cell_type": "code",
      "execution_count": 7,
      "metadata": {
        "id": "ZAM-h_b__f0I",
        "outputId": "8ec29ba7-58c9-450f-b87d-d58ca154c62f",
        "colab": {
          "base_uri": "https://localhost:8080/"
        }
      },
      "outputs": [
        {
          "output_type": "stream",
          "name": "stdout",
          "text": [
            "{'Age': 25, 'Position': 'management', 'Salary': 80000}\n"
          ]
        }
      ],
      "source": [
        "print(database[\"employees\"][\"Jane\"])"
      ]
    },
    {
      "cell_type": "markdown",
      "metadata": {
        "id": "AHuGNEEG_f0I"
      },
      "source": [
        "---\n",
        "\n",
        "We have not covered ```for-loops``` yet, but I would like for you to next run the following code in the cell below and try to decipher what exactly is happening:\n",
        "```python\n",
        "for field in database:\n",
        "    print(f\"{field.capitalize()}:\")\n",
        "    print(\"----------\")\n",
        "    for field_two in database[field]:\n",
        "        print(f\"           {field_two.capitalize()}:\")\n",
        "        print(\"           ----------------\")\n",
        "        for prop in database[field][field_two]:\n",
        "            print(f\"           {prop}: {database[field][field_two][prop]}\")\n",
        "        print()\n",
        "    print()\n",
        "\n",
        "\n",
        "```\n",
        "\n",
        "\n",
        "---"
      ]
    },
    {
      "cell_type": "code",
      "execution_count": 8,
      "metadata": {
        "id": "pgRUuflq_f0I",
        "outputId": "b981b141-55c2-42f5-90ed-e739a9386f54",
        "colab": {
          "base_uri": "https://localhost:8080/"
        }
      },
      "outputs": [
        {
          "output_type": "stream",
          "name": "stdout",
          "text": [
            "Employees:\n",
            "----------\n",
            "           John:\n",
            "           ----------------\n",
            "           Age: 20\n",
            "           Position: sales\n",
            "           Salary: 60000\n",
            "\n",
            "           Jane:\n",
            "           ----------------\n",
            "           Age: 25\n",
            "           Position: management\n",
            "           Salary: 80000\n",
            "\n",
            "\n",
            "Vendors:\n",
            "----------\n",
            "           Houston supply:\n",
            "           ----------------\n",
            "           Product: computers\n",
            "           Monthly Fee: 20000\n",
            "\n",
            "           Acme:\n",
            "           ----------------\n",
            "           Product: keyboards\n",
            "           Monthly Fee: 3000\n",
            "\n",
            "\n"
          ]
        }
      ],
      "source": [
        "for field in database:\n",
        "    print(f\"{field.capitalize()}:\")\n",
        "    print(\"----------\")\n",
        "    for field_two in database[field]:\n",
        "        print(f\"           {field_two.capitalize()}:\")\n",
        "        print(\"           ----------------\")\n",
        "        for prop in database[field][field_two]:\n",
        "            print(f\"           {prop}: {database[field][field_two][prop]}\")\n",
        "        print()\n",
        "    print()"
      ]
    },
    {
      "cell_type": "code",
      "execution_count": null,
      "metadata": {
        "id": "yjKU9VHs_f0I"
      },
      "outputs": [],
      "source": []
    },
    {
      "cell_type": "code",
      "execution_count": null,
      "metadata": {
        "id": "g8hYRRvO_f0I"
      },
      "outputs": [],
      "source": []
    },
    {
      "cell_type": "code",
      "execution_count": null,
      "metadata": {
        "id": "F8RwzQqc_f0I"
      },
      "outputs": [],
      "source": []
    },
    {
      "cell_type": "markdown",
      "metadata": {
        "id": "cNCEzARl_f0I"
      },
      "source": [
        "---\n",
        "\n",
        "For a full list of Python dictionary method please see this [link.](https://www.w3schools.com/python/python_ref_dictionary.asp)\n",
        "\n",
        "\n",
        "---"
      ]
    }
  ],
  "metadata": {
    "@webio": {
      "lastCommId": null,
      "lastKernelId": null
    },
    "kernelspec": {
      "display_name": "Python 3.10.6 64-bit",
      "language": "python",
      "name": "python3"
    },
    "language_info": {
      "codemirror_mode": {
        "name": "ipython",
        "version": 3
      },
      "file_extension": ".py",
      "mimetype": "text/x-python",
      "name": "python",
      "nbconvert_exporter": "python",
      "pygments_lexer": "ipython3",
      "version": "3.10.6"
    },
    "vscode": {
      "interpreter": {
        "hash": "610c699f0cd8c4f129acd9140687fff6866bed0eb8e82f249fc8848b827b628c"
      }
    },
    "colab": {
      "provenance": []
    }
  },
  "nbformat": 4,
  "nbformat_minor": 0
}